{
 "cells": [
  {
   "cell_type": "markdown",
   "metadata": {},
   "source": [
    "try except else finally"
   ]
  },
  {
   "cell_type": "code",
   "execution_count": 1,
   "metadata": {
    "collapsed": false
   },
   "outputs": [
    {
     "ename": "TypeError",
     "evalue": "unsupported operand type(s) for +: 'int' and 'str'",
     "output_type": "error",
     "traceback": [
      "\u001b[0;31m---------------------------------------------------------------------------\u001b[0m",
      "\u001b[0;31mTypeError\u001b[0m                                 Traceback (most recent call last)",
      "\u001b[0;32m<ipython-input-1-842879d18793>\u001b[0m in \u001b[0;36m<module>\u001b[0;34m()\u001b[0m\n\u001b[0;32m----> 1\u001b[0;31m \u001b[0;36m2\u001b[0m \u001b[0;34m+\u001b[0m \u001b[0;34m's'\u001b[0m\u001b[0;34m\u001b[0m\u001b[0m\n\u001b[0m",
      "\u001b[0;31mTypeError\u001b[0m: unsupported operand type(s) for +: 'int' and 'str'"
     ]
    }
   ],
   "source": [
    "2 + 's'"
   ]
  },
  {
   "cell_type": "code",
   "execution_count": 2,
   "metadata": {
    "collapsed": false
   },
   "outputs": [
    {
     "name": "stdout",
     "output_type": "stream",
     "text": [
      "There was a type error\n",
      "printing from finally block\n"
     ]
    }
   ],
   "source": [
    "try:\n",
    "    2 + 's'\n",
    "except TypeError:\n",
    "    print \"There was a type error\"\n",
    "finally:\n",
    "    print \"printing from finally block\""
   ]
  },
  {
   "cell_type": "code",
   "execution_count": 5,
   "metadata": {
    "collapsed": true
   },
   "outputs": [],
   "source": [
    "def askint():\n",
    "    while True:\n",
    "        \n",
    "        try:\n",
    "            val = int(raw_input('Please enter an integer: '))\n",
    "            \n",
    "        except:\n",
    "            print \"Enter an integer correctly\"\n",
    "            continue\n",
    "            \n",
    "        else:\n",
    "            print \"Correct\"\n",
    "            break\n",
    "        \n",
    "        finally:\n",
    "            print \"finally block executed\"\n",
    "            \n",
    "        print val"
   ]
  },
  {
   "cell_type": "code",
   "execution_count": 6,
   "metadata": {
    "collapsed": false
   },
   "outputs": [
    {
     "name": "stdout",
     "output_type": "stream",
     "text": [
      "Please enter an integer: e\n",
      "Enter an integer correctly\n",
      "finally block executed\n",
      "Please enter an integer: r\n",
      "Enter an integer correctly\n",
      "finally block executed\n",
      "Please enter an integer: t\n",
      "Enter an integer correctly\n",
      "finally block executed\n",
      "Please enter an integer: 5\n",
      "Correct\n",
      "finally block executed\n"
     ]
    }
   ],
   "source": [
    "askint()"
   ]
  },
  {
   "cell_type": "code",
   "execution_count": null,
   "metadata": {
    "collapsed": true
   },
   "outputs": [],
   "source": []
  }
 ],
 "metadata": {
  "kernelspec": {
   "display_name": "Python 2",
   "language": "python",
   "name": "python2"
  },
  "language_info": {
   "codemirror_mode": {
    "name": "ipython",
    "version": 2
   },
   "file_extension": ".py",
   "mimetype": "text/x-python",
   "name": "python",
   "nbconvert_exporter": "python",
   "pygments_lexer": "ipython2",
   "version": "2.7.13"
  }
 },
 "nbformat": 4,
 "nbformat_minor": 2
}
